{
 "cells": [
  {
   "cell_type": "markdown",
   "metadata": {},
   "source": [
    "## Final Project Submission\n",
    "\n",
    "Please fill out:\n",
    "* Student name: George Gachugu Kariuki\n",
    "* Student pace: full time\n",
    "* Scheduled project review date/time: 22 March 2024\n",
    "* Instructor name: Asha Deen\n",
    "* Blog post URL:"
   ]
  },
  {
   "cell_type": "markdown",
   "metadata": {},
   "source": [
    "# Title - Microsoft Movies\n",
    "\n",
    "## Business Overview\n",
    "Microsoft Studios have are excited to delve into the world of creative arts videos and movie production. To aid the head of Microsoft Movies I ahve created this project that attempts to undertand the movies at the box office with an aim to explore the kind of films that are doing well at the box office. Some of the questions we shall explore and investigate include:\n",
    "### 1. Genres \n",
    "    - What are the best performing genres at the box office?\n",
    "### 2. Directors - Best performing directors by revenue and volume\n",
    "    - Who are the best performing directors at the box office?\n",
    "### 3. Studios - Best performing studios by revenue and volume\n",
    "    - Which studios are the best performing studios at the box office?\n",
    "    \n",
    "Microsoft sees all the big companies creating original video content and they want to get in on the fun. They have decided to create a new movie studio, but they don’t know anything about creating movies. You are charged with exploring what types of films are currently doing the best at the box office. You must then translate those findings into actionable insights that the head of Microsoft's new movie studio can use to help decide what type of films to create."
   ]
  },
  {
   "cell_type": "code",
   "execution_count": 1,
   "metadata": {},
   "outputs": [],
   "source": [
    "import pandas as pd\n",
    "import numpy as np\n",
    "import matplotlib.pyplot as plt\n",
    "import seaborn as sns\n",
    "import sqlite3\n",
    "%matplotlib inline"
   ]
  },
  {
   "cell_type": "markdown",
   "metadata": {},
   "source": [
    "## Data Understanding\n",
    "We have two sources of data: a sqlite3 database that contains information on the movies in different tables, and a csv files from imdb.\n",
    "\n",
    "### Sqlite3 Databases\n",
    "There are 5 tables in the database - 3 of which we will use in our analysis - Movie basics, Directors and the Movie Ratings tables.\n",
    "In line with our objective, I joined the 3 tables based on the common feature `movie_id` to form one table - picking only the relevant features avoiding any duplications. These features are the movie_id, original_title\tprimary_name, runtime_minutes, genres, averagerating and numvotes.\n",
    "Using the Pandas library, I transformed the table into a Pandas DataFrame for easier manipulation"
   ]
  },
  {
   "cell_type": "code",
   "execution_count": 2,
   "metadata": {},
   "outputs": [],
   "source": [
    "# Creating a connection object using sqlite3 library\n",
    "conn = sqlite3.connect(\"./zippedData/im.db/im.db\")"
   ]
  },
  {
   "cell_type": "code",
   "execution_count": 3,
   "metadata": {},
   "outputs": [
    {
     "data": {
      "text/html": [
       "<div>\n",
       "<style scoped>\n",
       "    .dataframe tbody tr th:only-of-type {\n",
       "        vertical-align: middle;\n",
       "    }\n",
       "\n",
       "    .dataframe tbody tr th {\n",
       "        vertical-align: top;\n",
       "    }\n",
       "\n",
       "    .dataframe thead th {\n",
       "        text-align: right;\n",
       "    }\n",
       "</style>\n",
       "<table border=\"1\" class=\"dataframe\">\n",
       "  <thead>\n",
       "    <tr style=\"text-align: right;\">\n",
       "      <th></th>\n",
       "      <th>type</th>\n",
       "      <th>name</th>\n",
       "      <th>tbl_name</th>\n",
       "      <th>rootpage</th>\n",
       "      <th>sql</th>\n",
       "    </tr>\n",
       "  </thead>\n",
       "  <tbody>\n",
       "    <tr>\n",
       "      <th>0</th>\n",
       "      <td>table</td>\n",
       "      <td>movie_basics</td>\n",
       "      <td>movie_basics</td>\n",
       "      <td>2</td>\n",
       "      <td>CREATE TABLE \"movie_basics\" (\\n\"movie_id\" TEXT...</td>\n",
       "    </tr>\n",
       "    <tr>\n",
       "      <th>1</th>\n",
       "      <td>table</td>\n",
       "      <td>directors</td>\n",
       "      <td>directors</td>\n",
       "      <td>3</td>\n",
       "      <td>CREATE TABLE \"directors\" (\\n\"movie_id\" TEXT,\\n...</td>\n",
       "    </tr>\n",
       "    <tr>\n",
       "      <th>2</th>\n",
       "      <td>table</td>\n",
       "      <td>known_for</td>\n",
       "      <td>known_for</td>\n",
       "      <td>4</td>\n",
       "      <td>CREATE TABLE \"known_for\" (\\n\"person_id\" TEXT,\\...</td>\n",
       "    </tr>\n",
       "    <tr>\n",
       "      <th>3</th>\n",
       "      <td>table</td>\n",
       "      <td>movie_akas</td>\n",
       "      <td>movie_akas</td>\n",
       "      <td>5</td>\n",
       "      <td>CREATE TABLE \"movie_akas\" (\\n\"movie_id\" TEXT,\\...</td>\n",
       "    </tr>\n",
       "    <tr>\n",
       "      <th>4</th>\n",
       "      <td>table</td>\n",
       "      <td>movie_ratings</td>\n",
       "      <td>movie_ratings</td>\n",
       "      <td>6</td>\n",
       "      <td>CREATE TABLE \"movie_ratings\" (\\n\"movie_id\" TEX...</td>\n",
       "    </tr>\n",
       "  </tbody>\n",
       "</table>\n",
       "</div>"
      ],
      "text/plain": [
       "    type           name       tbl_name  rootpage  \\\n",
       "0  table   movie_basics   movie_basics         2   \n",
       "1  table      directors      directors         3   \n",
       "2  table      known_for      known_for         4   \n",
       "3  table     movie_akas     movie_akas         5   \n",
       "4  table  movie_ratings  movie_ratings         6   \n",
       "\n",
       "                                                 sql  \n",
       "0  CREATE TABLE \"movie_basics\" (\\n\"movie_id\" TEXT...  \n",
       "1  CREATE TABLE \"directors\" (\\n\"movie_id\" TEXT,\\n...  \n",
       "2  CREATE TABLE \"known_for\" (\\n\"person_id\" TEXT,\\...  \n",
       "3  CREATE TABLE \"movie_akas\" (\\n\"movie_id\" TEXT,\\...  \n",
       "4  CREATE TABLE \"movie_ratings\" (\\n\"movie_id\" TEX...  "
      ]
     },
     "execution_count": 3,
     "metadata": {},
     "output_type": "execute_result"
    }
   ],
   "source": [
    "pd.read_sql(\"SELECT * FROM sqlite_master;\", conn).head()"
   ]
  },
  {
   "cell_type": "code",
   "execution_count": 4,
   "metadata": {
    "scrolled": true
   },
   "outputs": [
    {
     "data": {
      "text/html": [
       "<div>\n",
       "<style scoped>\n",
       "    .dataframe tbody tr th:only-of-type {\n",
       "        vertical-align: middle;\n",
       "    }\n",
       "\n",
       "    .dataframe tbody tr th {\n",
       "        vertical-align: top;\n",
       "    }\n",
       "\n",
       "    .dataframe thead th {\n",
       "        text-align: right;\n",
       "    }\n",
       "</style>\n",
       "<table border=\"1\" class=\"dataframe\">\n",
       "  <thead>\n",
       "    <tr style=\"text-align: right;\">\n",
       "      <th></th>\n",
       "      <th>title</th>\n",
       "      <th>director</th>\n",
       "      <th>runtime_minutes</th>\n",
       "      <th>genres</th>\n",
       "    </tr>\n",
       "  </thead>\n",
       "  <tbody>\n",
       "    <tr>\n",
       "      <th>181382</th>\n",
       "      <td>Reversing Roe</td>\n",
       "      <td>Anne Sundberg</td>\n",
       "      <td>99.0</td>\n",
       "      <td>Documentary</td>\n",
       "    </tr>\n",
       "    <tr>\n",
       "      <th>181383</th>\n",
       "      <td>The Princess Switch</td>\n",
       "      <td>Mike Rohl</td>\n",
       "      <td>101.0</td>\n",
       "      <td>Romance</td>\n",
       "    </tr>\n",
       "    <tr>\n",
       "      <th>181384</th>\n",
       "      <td>The Princess Switch</td>\n",
       "      <td>Mike Rohl</td>\n",
       "      <td>101.0</td>\n",
       "      <td>Romance</td>\n",
       "    </tr>\n",
       "    <tr>\n",
       "      <th>181385</th>\n",
       "      <td>Doozy</td>\n",
       "      <td>Richard Squires</td>\n",
       "      <td>70.0</td>\n",
       "      <td>Animation,Comedy</td>\n",
       "    </tr>\n",
       "    <tr>\n",
       "      <th>181386</th>\n",
       "      <td>Syndebukken: Prosessen mot Harry Lindstrøm</td>\n",
       "      <td>Fredrik Horn Akselsen</td>\n",
       "      <td>NaN</td>\n",
       "      <td>Documentary</td>\n",
       "    </tr>\n",
       "  </tbody>\n",
       "</table>\n",
       "</div>"
      ],
      "text/plain": [
       "                                             title               director  \\\n",
       "181382                               Reversing Roe          Anne Sundberg   \n",
       "181383                         The Princess Switch              Mike Rohl   \n",
       "181384                         The Princess Switch              Mike Rohl   \n",
       "181385                                       Doozy        Richard Squires   \n",
       "181386  Syndebukken: Prosessen mot Harry Lindstrøm  Fredrik Horn Akselsen   \n",
       "\n",
       "        runtime_minutes            genres  \n",
       "181382             99.0       Documentary  \n",
       "181383            101.0           Romance  \n",
       "181384            101.0           Romance  \n",
       "181385             70.0  Animation,Comedy  \n",
       "181386              NaN       Documentary  "
      ]
     },
     "execution_count": 4,
     "metadata": {},
     "output_type": "execute_result"
    }
   ],
   "source": [
    "query = \"\"\"\n",
    "    SELECT original_title as title, primary_name AS director, \n",
    "        runtime_minutes, genres\n",
    "    FROM directors\n",
    "    JOIN persons\n",
    "        USING (person_id)\n",
    "    JOIN movie_basics\n",
    "        USING (movie_id)\n",
    "    JOIN movie_ratings\n",
    "        USING (movie_id)\n",
    "\"\"\"\n",
    "im_df = pd.read_sql(query, conn)\n",
    "im_df.tail()"
   ]
  },
  {
   "cell_type": "code",
   "execution_count": 5,
   "metadata": {},
   "outputs": [
    {
     "name": "stdout",
     "output_type": "stream",
     "text": [
      "<class 'pandas.core.frame.DataFrame'>\n",
      "RangeIndex: 181387 entries, 0 to 181386\n",
      "Data columns (total 4 columns):\n",
      " #   Column           Non-Null Count   Dtype  \n",
      "---  ------           --------------   -----  \n",
      " 0   title            181387 non-null  object \n",
      " 1   director         181387 non-null  object \n",
      " 2   runtime_minutes  163584 non-null  float64\n",
      " 3   genres           180047 non-null  object \n",
      "dtypes: float64(1), object(3)\n",
      "memory usage: 5.5+ MB\n"
     ]
    }
   ],
   "source": [
    "im_df.info()"
   ]
  },
  {
   "cell_type": "markdown",
   "metadata": {},
   "source": [
    "### CSV Files\n",
    "The [first csv file]('./zippedData/bom.movie_gross.csv.gz') contains the movies' titles, studios, gross earnings in domestic and foreign currencies, and the year released or produced. This file had 3387 records in it.\n",
    "\n",
    "The [second csv file]('./zippedData/tmdb.movies.csv.gz') contains the features - genre_ids, id, original_language, original_title, popularity, release_date, title, vote_average and vote_count. This file contained 26517 records in it.\n",
    "\n",
    "Lastly, we obtain our budgets from the [budgets csv]('./zippedData/tn.movie_budgets.csv.gz') and other data from this dataset. This dataset contained 5782 records with 6 features - id, release date, movie, production_budget, domestic_gross, worldwide_gross."
   ]
  },
  {
   "cell_type": "markdown",
   "metadata": {},
   "source": [
    "BOM Data"
   ]
  },
  {
   "cell_type": "code",
   "execution_count": 6,
   "metadata": {
    "scrolled": false
   },
   "outputs": [
    {
     "name": "stdout",
     "output_type": "stream",
     "text": [
      "(3387, 5)\n"
     ]
    },
    {
     "data": {
      "text/html": [
       "<div>\n",
       "<style scoped>\n",
       "    .dataframe tbody tr th:only-of-type {\n",
       "        vertical-align: middle;\n",
       "    }\n",
       "\n",
       "    .dataframe tbody tr th {\n",
       "        vertical-align: top;\n",
       "    }\n",
       "\n",
       "    .dataframe thead th {\n",
       "        text-align: right;\n",
       "    }\n",
       "</style>\n",
       "<table border=\"1\" class=\"dataframe\">\n",
       "  <thead>\n",
       "    <tr style=\"text-align: right;\">\n",
       "      <th></th>\n",
       "      <th>title</th>\n",
       "      <th>studio</th>\n",
       "      <th>domestic_gross</th>\n",
       "      <th>foreign_gross</th>\n",
       "      <th>year</th>\n",
       "    </tr>\n",
       "  </thead>\n",
       "  <tbody>\n",
       "    <tr>\n",
       "      <th>0</th>\n",
       "      <td>Toy Story 3</td>\n",
       "      <td>BV</td>\n",
       "      <td>415000000.0</td>\n",
       "      <td>652000000</td>\n",
       "      <td>2010</td>\n",
       "    </tr>\n",
       "    <tr>\n",
       "      <th>1</th>\n",
       "      <td>Alice in Wonderland (2010)</td>\n",
       "      <td>BV</td>\n",
       "      <td>334200000.0</td>\n",
       "      <td>691300000</td>\n",
       "      <td>2010</td>\n",
       "    </tr>\n",
       "    <tr>\n",
       "      <th>2</th>\n",
       "      <td>Harry Potter and the Deathly Hallows Part 1</td>\n",
       "      <td>WB</td>\n",
       "      <td>296000000.0</td>\n",
       "      <td>664300000</td>\n",
       "      <td>2010</td>\n",
       "    </tr>\n",
       "    <tr>\n",
       "      <th>3</th>\n",
       "      <td>Inception</td>\n",
       "      <td>WB</td>\n",
       "      <td>292600000.0</td>\n",
       "      <td>535700000</td>\n",
       "      <td>2010</td>\n",
       "    </tr>\n",
       "    <tr>\n",
       "      <th>4</th>\n",
       "      <td>Shrek Forever After</td>\n",
       "      <td>P/DW</td>\n",
       "      <td>238700000.0</td>\n",
       "      <td>513900000</td>\n",
       "      <td>2010</td>\n",
       "    </tr>\n",
       "  </tbody>\n",
       "</table>\n",
       "</div>"
      ],
      "text/plain": [
       "                                         title studio  domestic_gross  \\\n",
       "0                                  Toy Story 3     BV     415000000.0   \n",
       "1                   Alice in Wonderland (2010)     BV     334200000.0   \n",
       "2  Harry Potter and the Deathly Hallows Part 1     WB     296000000.0   \n",
       "3                                    Inception     WB     292600000.0   \n",
       "4                          Shrek Forever After   P/DW     238700000.0   \n",
       "\n",
       "  foreign_gross  year  \n",
       "0     652000000  2010  \n",
       "1     691300000  2010  \n",
       "2     664300000  2010  \n",
       "3     535700000  2010  \n",
       "4     513900000  2010  "
      ]
     },
     "execution_count": 6,
     "metadata": {},
     "output_type": "execute_result"
    }
   ],
   "source": [
    "bom_df = pd.read_csv(\"./zippedData/bom.movie_gross.csv.gz\")\n",
    "print(bom_df.shape)\n",
    "bom_df.head()"
   ]
  },
  {
   "cell_type": "code",
   "execution_count": 7,
   "metadata": {},
   "outputs": [
    {
     "name": "stdout",
     "output_type": "stream",
     "text": [
      "<class 'pandas.core.frame.DataFrame'>\n",
      "RangeIndex: 3387 entries, 0 to 3386\n",
      "Data columns (total 5 columns):\n",
      " #   Column          Non-Null Count  Dtype  \n",
      "---  ------          --------------  -----  \n",
      " 0   title           3387 non-null   object \n",
      " 1   studio          3382 non-null   object \n",
      " 2   domestic_gross  3359 non-null   float64\n",
      " 3   foreign_gross   2037 non-null   object \n",
      " 4   year            3387 non-null   int64  \n",
      "dtypes: float64(1), int64(1), object(3)\n",
      "memory usage: 132.4+ KB\n"
     ]
    }
   ],
   "source": [
    "bom_df.info()"
   ]
  },
  {
   "cell_type": "markdown",
   "metadata": {},
   "source": [
    "TMDB Data"
   ]
  },
  {
   "cell_type": "code",
   "execution_count": 8,
   "metadata": {},
   "outputs": [
    {
     "name": "stdout",
     "output_type": "stream",
     "text": [
      "(26517, 9)\n"
     ]
    },
    {
     "data": {
      "text/html": [
       "<div>\n",
       "<style scoped>\n",
       "    .dataframe tbody tr th:only-of-type {\n",
       "        vertical-align: middle;\n",
       "    }\n",
       "\n",
       "    .dataframe tbody tr th {\n",
       "        vertical-align: top;\n",
       "    }\n",
       "\n",
       "    .dataframe thead th {\n",
       "        text-align: right;\n",
       "    }\n",
       "</style>\n",
       "<table border=\"1\" class=\"dataframe\">\n",
       "  <thead>\n",
       "    <tr style=\"text-align: right;\">\n",
       "      <th></th>\n",
       "      <th>genre_ids</th>\n",
       "      <th>id</th>\n",
       "      <th>original_language</th>\n",
       "      <th>original_title</th>\n",
       "      <th>popularity</th>\n",
       "      <th>release_date</th>\n",
       "      <th>title</th>\n",
       "      <th>vote_average</th>\n",
       "      <th>vote_count</th>\n",
       "    </tr>\n",
       "  </thead>\n",
       "  <tbody>\n",
       "    <tr>\n",
       "      <th>0</th>\n",
       "      <td>[12, 14, 10751]</td>\n",
       "      <td>12444</td>\n",
       "      <td>en</td>\n",
       "      <td>Harry Potter and the Deathly Hallows: Part 1</td>\n",
       "      <td>33.533</td>\n",
       "      <td>2010-11-19</td>\n",
       "      <td>Harry Potter and the Deathly Hallows: Part 1</td>\n",
       "      <td>7.7</td>\n",
       "      <td>10788</td>\n",
       "    </tr>\n",
       "    <tr>\n",
       "      <th>1</th>\n",
       "      <td>[14, 12, 16, 10751]</td>\n",
       "      <td>10191</td>\n",
       "      <td>en</td>\n",
       "      <td>How to Train Your Dragon</td>\n",
       "      <td>28.734</td>\n",
       "      <td>2010-03-26</td>\n",
       "      <td>How to Train Your Dragon</td>\n",
       "      <td>7.7</td>\n",
       "      <td>7610</td>\n",
       "    </tr>\n",
       "    <tr>\n",
       "      <th>2</th>\n",
       "      <td>[12, 28, 878]</td>\n",
       "      <td>10138</td>\n",
       "      <td>en</td>\n",
       "      <td>Iron Man 2</td>\n",
       "      <td>28.515</td>\n",
       "      <td>2010-05-07</td>\n",
       "      <td>Iron Man 2</td>\n",
       "      <td>6.8</td>\n",
       "      <td>12368</td>\n",
       "    </tr>\n",
       "    <tr>\n",
       "      <th>3</th>\n",
       "      <td>[16, 35, 10751]</td>\n",
       "      <td>862</td>\n",
       "      <td>en</td>\n",
       "      <td>Toy Story</td>\n",
       "      <td>28.005</td>\n",
       "      <td>1995-11-22</td>\n",
       "      <td>Toy Story</td>\n",
       "      <td>7.9</td>\n",
       "      <td>10174</td>\n",
       "    </tr>\n",
       "    <tr>\n",
       "      <th>4</th>\n",
       "      <td>[28, 878, 12]</td>\n",
       "      <td>27205</td>\n",
       "      <td>en</td>\n",
       "      <td>Inception</td>\n",
       "      <td>27.920</td>\n",
       "      <td>2010-07-16</td>\n",
       "      <td>Inception</td>\n",
       "      <td>8.3</td>\n",
       "      <td>22186</td>\n",
       "    </tr>\n",
       "  </tbody>\n",
       "</table>\n",
       "</div>"
      ],
      "text/plain": [
       "             genre_ids     id original_language  \\\n",
       "0      [12, 14, 10751]  12444                en   \n",
       "1  [14, 12, 16, 10751]  10191                en   \n",
       "2        [12, 28, 878]  10138                en   \n",
       "3      [16, 35, 10751]    862                en   \n",
       "4        [28, 878, 12]  27205                en   \n",
       "\n",
       "                                 original_title  popularity release_date  \\\n",
       "0  Harry Potter and the Deathly Hallows: Part 1      33.533   2010-11-19   \n",
       "1                      How to Train Your Dragon      28.734   2010-03-26   \n",
       "2                                    Iron Man 2      28.515   2010-05-07   \n",
       "3                                     Toy Story      28.005   1995-11-22   \n",
       "4                                     Inception      27.920   2010-07-16   \n",
       "\n",
       "                                          title  vote_average  vote_count  \n",
       "0  Harry Potter and the Deathly Hallows: Part 1           7.7       10788  \n",
       "1                      How to Train Your Dragon           7.7        7610  \n",
       "2                                    Iron Man 2           6.8       12368  \n",
       "3                                     Toy Story           7.9       10174  \n",
       "4                                     Inception           8.3       22186  "
      ]
     },
     "execution_count": 8,
     "metadata": {},
     "output_type": "execute_result"
    }
   ],
   "source": [
    "tmdb_df = pd.read_csv(\"./zippedData/tmdb.movies.csv.gz\", index_col=0)\n",
    "print(tmdb_df.shape)\n",
    "tmdb_df.head()"
   ]
  },
  {
   "cell_type": "code",
   "execution_count": 9,
   "metadata": {},
   "outputs": [
    {
     "name": "stdout",
     "output_type": "stream",
     "text": [
      "<class 'pandas.core.frame.DataFrame'>\n",
      "Int64Index: 26517 entries, 0 to 26516\n",
      "Data columns (total 9 columns):\n",
      " #   Column             Non-Null Count  Dtype  \n",
      "---  ------             --------------  -----  \n",
      " 0   genre_ids          26517 non-null  object \n",
      " 1   id                 26517 non-null  int64  \n",
      " 2   original_language  26517 non-null  object \n",
      " 3   original_title     26517 non-null  object \n",
      " 4   popularity         26517 non-null  float64\n",
      " 5   release_date       26517 non-null  object \n",
      " 6   title              26517 non-null  object \n",
      " 7   vote_average       26517 non-null  float64\n",
      " 8   vote_count         26517 non-null  int64  \n",
      "dtypes: float64(2), int64(2), object(5)\n",
      "memory usage: 2.0+ MB\n"
     ]
    }
   ],
   "source": [
    "tmdb_df.info()"
   ]
  },
  {
   "cell_type": "markdown",
   "metadata": {},
   "source": [
    "Movie Budgets Data"
   ]
  },
  {
   "cell_type": "code",
   "execution_count": 10,
   "metadata": {},
   "outputs": [
    {
     "name": "stdout",
     "output_type": "stream",
     "text": [
      "(5782, 6)\n"
     ]
    },
    {
     "data": {
      "text/html": [
       "<div>\n",
       "<style scoped>\n",
       "    .dataframe tbody tr th:only-of-type {\n",
       "        vertical-align: middle;\n",
       "    }\n",
       "\n",
       "    .dataframe tbody tr th {\n",
       "        vertical-align: top;\n",
       "    }\n",
       "\n",
       "    .dataframe thead th {\n",
       "        text-align: right;\n",
       "    }\n",
       "</style>\n",
       "<table border=\"1\" class=\"dataframe\">\n",
       "  <thead>\n",
       "    <tr style=\"text-align: right;\">\n",
       "      <th></th>\n",
       "      <th>id</th>\n",
       "      <th>release_date</th>\n",
       "      <th>movie</th>\n",
       "      <th>production_budget</th>\n",
       "      <th>domestic_gross</th>\n",
       "      <th>worldwide_gross</th>\n",
       "    </tr>\n",
       "  </thead>\n",
       "  <tbody>\n",
       "    <tr>\n",
       "      <th>0</th>\n",
       "      <td>1</td>\n",
       "      <td>Dec 18, 2009</td>\n",
       "      <td>Avatar</td>\n",
       "      <td>$425,000,000</td>\n",
       "      <td>$760,507,625</td>\n",
       "      <td>$2,776,345,279</td>\n",
       "    </tr>\n",
       "    <tr>\n",
       "      <th>1</th>\n",
       "      <td>2</td>\n",
       "      <td>May 20, 2011</td>\n",
       "      <td>Pirates of the Caribbean: On Stranger Tides</td>\n",
       "      <td>$410,600,000</td>\n",
       "      <td>$241,063,875</td>\n",
       "      <td>$1,045,663,875</td>\n",
       "    </tr>\n",
       "    <tr>\n",
       "      <th>2</th>\n",
       "      <td>3</td>\n",
       "      <td>Jun 7, 2019</td>\n",
       "      <td>Dark Phoenix</td>\n",
       "      <td>$350,000,000</td>\n",
       "      <td>$42,762,350</td>\n",
       "      <td>$149,762,350</td>\n",
       "    </tr>\n",
       "    <tr>\n",
       "      <th>3</th>\n",
       "      <td>4</td>\n",
       "      <td>May 1, 2015</td>\n",
       "      <td>Avengers: Age of Ultron</td>\n",
       "      <td>$330,600,000</td>\n",
       "      <td>$459,005,868</td>\n",
       "      <td>$1,403,013,963</td>\n",
       "    </tr>\n",
       "    <tr>\n",
       "      <th>4</th>\n",
       "      <td>5</td>\n",
       "      <td>Dec 15, 2017</td>\n",
       "      <td>Star Wars Ep. VIII: The Last Jedi</td>\n",
       "      <td>$317,000,000</td>\n",
       "      <td>$620,181,382</td>\n",
       "      <td>$1,316,721,747</td>\n",
       "    </tr>\n",
       "  </tbody>\n",
       "</table>\n",
       "</div>"
      ],
      "text/plain": [
       "   id  release_date                                        movie  \\\n",
       "0   1  Dec 18, 2009                                       Avatar   \n",
       "1   2  May 20, 2011  Pirates of the Caribbean: On Stranger Tides   \n",
       "2   3   Jun 7, 2019                                 Dark Phoenix   \n",
       "3   4   May 1, 2015                      Avengers: Age of Ultron   \n",
       "4   5  Dec 15, 2017            Star Wars Ep. VIII: The Last Jedi   \n",
       "\n",
       "  production_budget domestic_gross worldwide_gross  \n",
       "0      $425,000,000   $760,507,625  $2,776,345,279  \n",
       "1      $410,600,000   $241,063,875  $1,045,663,875  \n",
       "2      $350,000,000    $42,762,350    $149,762,350  \n",
       "3      $330,600,000   $459,005,868  $1,403,013,963  \n",
       "4      $317,000,000   $620,181,382  $1,316,721,747  "
      ]
     },
     "execution_count": 10,
     "metadata": {},
     "output_type": "execute_result"
    }
   ],
   "source": [
    "budgets_df = pd.read_csv('./zippedData/tn.movie_budgets.csv.gz')\n",
    "print(budgets_df.shape)\n",
    "budgets_df.head()"
   ]
  },
  {
   "cell_type": "markdown",
   "metadata": {},
   "source": [
    "## Data Preparation\n",
    "\n",
    "### Data Cleaning\n",
    "We drop the features from both bom and imdb that we will not need."
   ]
  },
  {
   "cell_type": "markdown",
   "metadata": {},
   "source": [
    "Cleaning the TMDB dataset"
   ]
  },
  {
   "cell_type": "code",
   "execution_count": 11,
   "metadata": {},
   "outputs": [],
   "source": [
    "# Drop unnecessary columns in tmdb_df\n",
    "tmdb_df.drop(columns=[\"genre_ids\", \"id\", \"original_language\", \"original_title\"], inplace=True)"
   ]
  },
  {
   "cell_type": "code",
   "execution_count": 12,
   "metadata": {
    "scrolled": false
   },
   "outputs": [
    {
     "data": {
      "text/plain": [
       "popularity      0\n",
       "release_date    0\n",
       "title           0\n",
       "vote_average    0\n",
       "vote_count      0\n",
       "dtype: int64"
      ]
     },
     "execution_count": 12,
     "metadata": {},
     "output_type": "execute_result"
    }
   ],
   "source": [
    "tmdb_df.isna().sum()"
   ]
  },
  {
   "cell_type": "code",
   "execution_count": 13,
   "metadata": {},
   "outputs": [
    {
     "data": {
      "text/plain": [
       "1020"
      ]
     },
     "execution_count": 13,
     "metadata": {},
     "output_type": "execute_result"
    }
   ],
   "source": [
    "# Investigating the number of duplicates\n",
    "tmdb_df.duplicated().sum()"
   ]
  },
  {
   "cell_type": "code",
   "execution_count": 14,
   "metadata": {},
   "outputs": [
    {
     "data": {
      "text/plain": [
       "0"
      ]
     },
     "execution_count": 14,
     "metadata": {},
     "output_type": "execute_result"
    }
   ],
   "source": [
    "# Dropping the duplicates and confirming that there are no duplicates\n",
    "tmdb_df.drop_duplicates(inplace=True)\n",
    "tmdb_df.duplicated().sum()"
   ]
  },
  {
   "cell_type": "code",
   "execution_count": 15,
   "metadata": {},
   "outputs": [
    {
     "data": {
      "text/plain": [
       "(25497, 5)"
      ]
     },
     "execution_count": 15,
     "metadata": {},
     "output_type": "execute_result"
    }
   ],
   "source": [
    "# Check\n",
    "tmdb_df.shape"
   ]
  },
  {
   "cell_type": "markdown",
   "metadata": {},
   "source": [
    "Cleaning the BOM DataFrame"
   ]
  },
  {
   "cell_type": "code",
   "execution_count": 16,
   "metadata": {},
   "outputs": [
    {
     "data": {
      "text/plain": [
       "0"
      ]
     },
     "execution_count": 16,
     "metadata": {},
     "output_type": "execute_result"
    }
   ],
   "source": [
    "# Investigating the number of duplicates\n",
    "bom_df.duplicated().sum()"
   ]
  },
  {
   "cell_type": "code",
   "execution_count": 17,
   "metadata": {},
   "outputs": [
    {
     "data": {
      "text/plain": [
       "title              0.000000\n",
       "studio             0.147623\n",
       "domestic_gross     0.826690\n",
       "foreign_gross     39.858282\n",
       "year               0.000000\n",
       "dtype: float64"
      ]
     },
     "execution_count": 17,
     "metadata": {},
     "output_type": "execute_result"
    }
   ],
   "source": [
    "# Investigating the proportion of missing values in each column\n",
    "bom_df.isna().sum()/ bom_df.shape[0] * 100"
   ]
  },
  {
   "cell_type": "code",
   "execution_count": 18,
   "metadata": {},
   "outputs": [],
   "source": [
    "# The foreign_gross column is missing 39% of it's data. It would be better if we dropped the feature\n",
    "bom_df.drop(axis=1, columns=[\"foreign_gross\"], inplace=True)"
   ]
  },
  {
   "cell_type": "code",
   "execution_count": 19,
   "metadata": {},
   "outputs": [
    {
     "data": {
      "text/plain": [
       "title             0.000000\n",
       "studio            0.147623\n",
       "domestic_gross    0.826690\n",
       "year              0.000000\n",
       "dtype: float64"
      ]
     },
     "execution_count": 19,
     "metadata": {},
     "output_type": "execute_result"
    }
   ],
   "source": [
    "bom_df.isna().sum()/ bom_df.shape[0] * 100"
   ]
  },
  {
   "cell_type": "code",
   "execution_count": 20,
   "metadata": {},
   "outputs": [
    {
     "data": {
      "text/plain": [
       "(3356, 4)"
      ]
     },
     "execution_count": 20,
     "metadata": {},
     "output_type": "execute_result"
    }
   ],
   "source": [
    "# Drop records with missing data in the \"studio\" column\n",
    "bom_df.dropna(axis=0, inplace=True)\n",
    "bom_df.shape"
   ]
  },
  {
   "cell_type": "code",
   "execution_count": 21,
   "metadata": {},
   "outputs": [],
   "source": [
    "# Rename a column\n",
    "bom_df = bom_df.rename(columns={\"domestic_gross\":\"revenue\"})"
   ]
  },
  {
   "cell_type": "code",
   "execution_count": 22,
   "metadata": {},
   "outputs": [
    {
     "data": {
      "text/plain": [
       "(3356, 4)"
      ]
     },
     "execution_count": 22,
     "metadata": {},
     "output_type": "execute_result"
    }
   ],
   "source": [
    "# Check\n",
    "bom_df.shape"
   ]
  },
  {
   "cell_type": "markdown",
   "metadata": {},
   "source": [
    "Cleaning the Budgets Dataframe"
   ]
  },
  {
   "cell_type": "code",
   "execution_count": 23,
   "metadata": {},
   "outputs": [
    {
     "name": "stdout",
     "output_type": "stream",
     "text": [
      "<class 'pandas.core.frame.DataFrame'>\n",
      "RangeIndex: 5782 entries, 0 to 5781\n",
      "Data columns (total 6 columns):\n",
      " #   Column             Non-Null Count  Dtype \n",
      "---  ------             --------------  ----- \n",
      " 0   id                 5782 non-null   int64 \n",
      " 1   release_date       5782 non-null   object\n",
      " 2   movie              5782 non-null   object\n",
      " 3   production_budget  5782 non-null   object\n",
      " 4   domestic_gross     5782 non-null   object\n",
      " 5   worldwide_gross    5782 non-null   object\n",
      "dtypes: int64(1), object(5)\n",
      "memory usage: 271.2+ KB\n"
     ]
    }
   ],
   "source": [
    "budgets_df.info()"
   ]
  },
  {
   "cell_type": "code",
   "execution_count": 24,
   "metadata": {},
   "outputs": [],
   "source": [
    "# Change the datatypes of the production_budget, domestic gross and worldwide gross features to integers\n",
    "for col in ['production_budget', 'domestic_gross',\n",
    "       'worldwide_gross']:\n",
    "    if budgets_df[col].dtype == 'O':\n",
    "        budgets_df[col] = budgets_df[col].map(lambda record: record.replace(\"$\", \"\"))\n",
    "        budgets_df[col] = budgets_df[col].map(lambda record: record.replace(\",\", \"\"))\n",
    "        budgets_df[col] = budgets_df[col].apply(int)"
   ]
  },
  {
   "cell_type": "code",
   "execution_count": 25,
   "metadata": {},
   "outputs": [
    {
     "name": "stdout",
     "output_type": "stream",
     "text": [
      "<class 'pandas.core.frame.DataFrame'>\n",
      "RangeIndex: 5782 entries, 0 to 5781\n",
      "Data columns (total 6 columns):\n",
      " #   Column             Non-Null Count  Dtype \n",
      "---  ------             --------------  ----- \n",
      " 0   id                 5782 non-null   int64 \n",
      " 1   release_date       5782 non-null   object\n",
      " 2   movie              5782 non-null   object\n",
      " 3   production_budget  5782 non-null   int64 \n",
      " 4   domestic_gross     5782 non-null   int64 \n",
      " 5   worldwide_gross    5782 non-null   int64 \n",
      "dtypes: int64(4), object(2)\n",
      "memory usage: 271.2+ KB\n"
     ]
    }
   ],
   "source": [
    "# Confirming cleaned features are in the correct dtype\n",
    "budgets_df.info()"
   ]
  },
  {
   "cell_type": "code",
   "execution_count": 26,
   "metadata": {},
   "outputs": [
    {
     "data": {
      "text/plain": [
       "Index(['id', 'release_date', 'title', 'budget', 'revenue', 'worldwide_gross'], dtype='object')"
      ]
     },
     "execution_count": 26,
     "metadata": {},
     "output_type": "execute_result"
    }
   ],
   "source": [
    "# Change the column movie to title\n",
    "budgets_df = budgets_df.rename(columns={\"movie\":\"title\", \"production_budget\":\"budget\", \"domestic_gross\":\"revenue\"})\n",
    "\n",
    "# Confirm change of feature name\n",
    "budgets_df.columns"
   ]
  },
  {
   "cell_type": "code",
   "execution_count": 27,
   "metadata": {},
   "outputs": [
    {
     "data": {
      "text/plain": [
       "(5782, 2)"
      ]
     },
     "execution_count": 27,
     "metadata": {},
     "output_type": "execute_result"
    }
   ],
   "source": [
    "# Drop features already present in the other dataframes\n",
    "budgets_df.drop(axis=1, labels=['id', 'release_date', 'worldwide_gross', \"revenue\"],\n",
    "               inplace=True)\n",
    "\n",
    "# Check\n",
    "budgets_df.shape"
   ]
  },
  {
   "cell_type": "markdown",
   "metadata": {},
   "source": [
    "Cleaning the IM Dataframe"
   ]
  },
  {
   "cell_type": "code",
   "execution_count": 28,
   "metadata": {
    "scrolled": false
   },
   "outputs": [
    {
     "data": {
      "text/html": [
       "<div>\n",
       "<style scoped>\n",
       "    .dataframe tbody tr th:only-of-type {\n",
       "        vertical-align: middle;\n",
       "    }\n",
       "\n",
       "    .dataframe tbody tr th {\n",
       "        vertical-align: top;\n",
       "    }\n",
       "\n",
       "    .dataframe thead th {\n",
       "        text-align: right;\n",
       "    }\n",
       "</style>\n",
       "<table border=\"1\" class=\"dataframe\">\n",
       "  <thead>\n",
       "    <tr style=\"text-align: right;\">\n",
       "      <th></th>\n",
       "      <th>runtime_minutes</th>\n",
       "    </tr>\n",
       "  </thead>\n",
       "  <tbody>\n",
       "    <tr>\n",
       "      <th>count</th>\n",
       "      <td>163584.000000</td>\n",
       "    </tr>\n",
       "    <tr>\n",
       "      <th>mean</th>\n",
       "      <td>97.789484</td>\n",
       "    </tr>\n",
       "    <tr>\n",
       "      <th>std</th>\n",
       "      <td>194.434689</td>\n",
       "    </tr>\n",
       "    <tr>\n",
       "      <th>min</th>\n",
       "      <td>3.000000</td>\n",
       "    </tr>\n",
       "    <tr>\n",
       "      <th>25%</th>\n",
       "      <td>84.000000</td>\n",
       "    </tr>\n",
       "    <tr>\n",
       "      <th>50%</th>\n",
       "      <td>94.000000</td>\n",
       "    </tr>\n",
       "    <tr>\n",
       "      <th>75%</th>\n",
       "      <td>107.000000</td>\n",
       "    </tr>\n",
       "    <tr>\n",
       "      <th>max</th>\n",
       "      <td>51420.000000</td>\n",
       "    </tr>\n",
       "  </tbody>\n",
       "</table>\n",
       "</div>"
      ],
      "text/plain": [
       "       runtime_minutes\n",
       "count    163584.000000\n",
       "mean         97.789484\n",
       "std         194.434689\n",
       "min           3.000000\n",
       "25%          84.000000\n",
       "50%          94.000000\n",
       "75%         107.000000\n",
       "max       51420.000000"
      ]
     },
     "execution_count": 28,
     "metadata": {},
     "output_type": "execute_result"
    }
   ],
   "source": [
    "im_df.describe()"
   ]
  },
  {
   "cell_type": "code",
   "execution_count": 29,
   "metadata": {},
   "outputs": [
    {
     "name": "stdout",
     "output_type": "stream",
     "text": [
      "(181387, 4)\n"
     ]
    },
    {
     "data": {
      "text/plain": [
       "title              0.000000\n",
       "director           0.000000\n",
       "runtime_minutes    9.814926\n",
       "genres             0.738752\n",
       "dtype: float64"
      ]
     },
     "execution_count": 29,
     "metadata": {},
     "output_type": "execute_result"
    }
   ],
   "source": [
    "# Investigating the proportion of missing values per feature\n",
    "print(im_df.shape)\n",
    "im_df.isna().sum()/im_df.shape[0] * 100"
   ]
  },
  {
   "cell_type": "code",
   "execution_count": 30,
   "metadata": {},
   "outputs": [
    {
     "data": {
      "text/plain": [
       "title              0\n",
       "director           0\n",
       "runtime_minutes    0\n",
       "genres             0\n",
       "dtype: int64"
      ]
     },
     "execution_count": 30,
     "metadata": {},
     "output_type": "execute_result"
    }
   ],
   "source": [
    "# Through investigation we can see that the runtime_minutes missing values account for less than 10% of the dataset.\n",
    "# We can drop these records because attempting to fill in the values with the mean could falsify our findings\n",
    "im_df.dropna(axis=0, inplace=True)\n",
    "im_df.shape\n",
    "im_df.isna().sum()"
   ]
  },
  {
   "cell_type": "code",
   "execution_count": 31,
   "metadata": {},
   "outputs": [
    {
     "data": {
      "text/plain": [
       "0"
      ]
     },
     "execution_count": 31,
     "metadata": {},
     "output_type": "execute_result"
    }
   ],
   "source": [
    "# Drop duplicates\n",
    "im_df.duplicated().sum() # 86218\n",
    "\n",
    "im_df.drop_duplicates(subset=['title', 'runtime_minutes', \n",
    "                              'genres',], keep='first', inplace=True)\n",
    "\n",
    "im_df.duplicated().sum()"
   ]
  },
  {
   "cell_type": "code",
   "execution_count": 32,
   "metadata": {},
   "outputs": [],
   "source": [
    "# There seems to be an outlier in the im_df dataset where a movie has a runtime of 51420 minutes which translates to 857 hours\n",
    "# This could have been an error while inputting data or this relates to a Series instead of a movie\n",
    "\n",
    "# Assuming the average length of a very long normal movie is less than 5 hours\n",
    "im_df = im_df[im_df[\"runtime_minutes\"] <= 300]"
   ]
  },
  {
   "cell_type": "code",
   "execution_count": 33,
   "metadata": {},
   "outputs": [
    {
     "data": {
      "text/html": [
       "<div>\n",
       "<style scoped>\n",
       "    .dataframe tbody tr th:only-of-type {\n",
       "        vertical-align: middle;\n",
       "    }\n",
       "\n",
       "    .dataframe tbody tr th {\n",
       "        vertical-align: top;\n",
       "    }\n",
       "\n",
       "    .dataframe thead th {\n",
       "        text-align: right;\n",
       "    }\n",
       "</style>\n",
       "<table border=\"1\" class=\"dataframe\">\n",
       "  <thead>\n",
       "    <tr style=\"text-align: right;\">\n",
       "      <th></th>\n",
       "      <th>runtime_minutes</th>\n",
       "    </tr>\n",
       "  </thead>\n",
       "  <tbody>\n",
       "    <tr>\n",
       "      <th>count</th>\n",
       "      <td>65256.000000</td>\n",
       "    </tr>\n",
       "    <tr>\n",
       "      <th>mean</th>\n",
       "      <td>93.504153</td>\n",
       "    </tr>\n",
       "    <tr>\n",
       "      <th>std</th>\n",
       "      <td>22.699702</td>\n",
       "    </tr>\n",
       "    <tr>\n",
       "      <th>min</th>\n",
       "      <td>3.000000</td>\n",
       "    </tr>\n",
       "    <tr>\n",
       "      <th>25%</th>\n",
       "      <td>81.000000</td>\n",
       "    </tr>\n",
       "    <tr>\n",
       "      <th>50%</th>\n",
       "      <td>91.000000</td>\n",
       "    </tr>\n",
       "    <tr>\n",
       "      <th>75%</th>\n",
       "      <td>104.000000</td>\n",
       "    </tr>\n",
       "    <tr>\n",
       "      <th>max</th>\n",
       "      <td>300.000000</td>\n",
       "    </tr>\n",
       "  </tbody>\n",
       "</table>\n",
       "</div>"
      ],
      "text/plain": [
       "       runtime_minutes\n",
       "count     65256.000000\n",
       "mean         93.504153\n",
       "std          22.699702\n",
       "min           3.000000\n",
       "25%          81.000000\n",
       "50%          91.000000\n",
       "75%         104.000000\n",
       "max         300.000000"
      ]
     },
     "execution_count": 33,
     "metadata": {},
     "output_type": "execute_result"
    }
   ],
   "source": [
    "im_df.shape\n",
    "im_df.describe()"
   ]
  },
  {
   "cell_type": "markdown",
   "metadata": {},
   "source": [
    "### Data Merging\n",
    "\n",
    "After cleaning both data sets csvs and databases, we can now merge them on their common feature - title"
   ]
  },
  {
   "cell_type": "markdown",
   "metadata": {},
   "source": [
    "Merge the BOM Dataset with the TMDB dataset"
   ]
  },
  {
   "cell_type": "code",
   "execution_count": 35,
   "metadata": {},
   "outputs": [],
   "source": [
    "# Merging the bom datasets\n",
    "bomtmdb = pd.merge(left=bom_df, right=tmdb_df, how=\"inner\", on=\"title\")"
   ]
  },
  {
   "cell_type": "markdown",
   "metadata": {},
   "source": [
    "Merge the BOMTMDB Dataset with the Budgets dataset"
   ]
  },
  {
   "cell_type": "code",
   "execution_count": 36,
   "metadata": {},
   "outputs": [],
   "source": [
    "secondary_df = pd.merge(left=bomtmdb, right=budgets_df, how=\"inner\", on=\"title\")"
   ]
  },
  {
   "cell_type": "markdown",
   "metadata": {},
   "source": [
    "Merge the Secondary Dataset with the IM dataset"
   ]
  },
  {
   "cell_type": "code",
   "execution_count": 37,
   "metadata": {},
   "outputs": [],
   "source": [
    "movies_df = pd.merge(secondary_df, im_df, how='inner', on='title')"
   ]
  },
  {
   "cell_type": "markdown",
   "metadata": {},
   "source": [
    "Previewing the combined datasets"
   ]
  },
  {
   "cell_type": "code",
   "execution_count": 38,
   "metadata": {},
   "outputs": [
    {
     "name": "stdout",
     "output_type": "stream",
     "text": [
      "(1506, 12)\n"
     ]
    },
    {
     "data": {
      "text/html": [
       "<div>\n",
       "<style scoped>\n",
       "    .dataframe tbody tr th:only-of-type {\n",
       "        vertical-align: middle;\n",
       "    }\n",
       "\n",
       "    .dataframe tbody tr th {\n",
       "        vertical-align: top;\n",
       "    }\n",
       "\n",
       "    .dataframe thead th {\n",
       "        text-align: right;\n",
       "    }\n",
       "</style>\n",
       "<table border=\"1\" class=\"dataframe\">\n",
       "  <thead>\n",
       "    <tr style=\"text-align: right;\">\n",
       "      <th></th>\n",
       "      <th>title</th>\n",
       "      <th>studio</th>\n",
       "      <th>revenue</th>\n",
       "      <th>year</th>\n",
       "      <th>popularity</th>\n",
       "      <th>release_date</th>\n",
       "      <th>vote_average</th>\n",
       "      <th>vote_count</th>\n",
       "      <th>budget</th>\n",
       "      <th>director</th>\n",
       "      <th>runtime_minutes</th>\n",
       "      <th>genres</th>\n",
       "    </tr>\n",
       "  </thead>\n",
       "  <tbody>\n",
       "    <tr>\n",
       "      <th>0</th>\n",
       "      <td>Toy Story 3</td>\n",
       "      <td>BV</td>\n",
       "      <td>415000000.0</td>\n",
       "      <td>2010</td>\n",
       "      <td>24.445</td>\n",
       "      <td>2010-06-17</td>\n",
       "      <td>7.7</td>\n",
       "      <td>8340</td>\n",
       "      <td>200000000</td>\n",
       "      <td>Lee Unkrich</td>\n",
       "      <td>103.0</td>\n",
       "      <td>Adventure,Animation,Comedy</td>\n",
       "    </tr>\n",
       "    <tr>\n",
       "      <th>1</th>\n",
       "      <td>Inception</td>\n",
       "      <td>WB</td>\n",
       "      <td>292600000.0</td>\n",
       "      <td>2010</td>\n",
       "      <td>27.920</td>\n",
       "      <td>2010-07-16</td>\n",
       "      <td>8.3</td>\n",
       "      <td>22186</td>\n",
       "      <td>160000000</td>\n",
       "      <td>Christopher Nolan</td>\n",
       "      <td>148.0</td>\n",
       "      <td>Action,Adventure,Sci-Fi</td>\n",
       "    </tr>\n",
       "    <tr>\n",
       "      <th>2</th>\n",
       "      <td>Shrek Forever After</td>\n",
       "      <td>P/DW</td>\n",
       "      <td>238700000.0</td>\n",
       "      <td>2010</td>\n",
       "      <td>15.041</td>\n",
       "      <td>2010-05-16</td>\n",
       "      <td>6.1</td>\n",
       "      <td>3843</td>\n",
       "      <td>165000000</td>\n",
       "      <td>Mike Mitchell</td>\n",
       "      <td>93.0</td>\n",
       "      <td>Adventure,Animation,Comedy</td>\n",
       "    </tr>\n",
       "    <tr>\n",
       "      <th>3</th>\n",
       "      <td>The Twilight Saga: Eclipse</td>\n",
       "      <td>Sum.</td>\n",
       "      <td>300500000.0</td>\n",
       "      <td>2010</td>\n",
       "      <td>20.340</td>\n",
       "      <td>2010-06-23</td>\n",
       "      <td>6.0</td>\n",
       "      <td>4909</td>\n",
       "      <td>68000000</td>\n",
       "      <td>David Slade</td>\n",
       "      <td>124.0</td>\n",
       "      <td>Adventure,Drama,Fantasy</td>\n",
       "    </tr>\n",
       "    <tr>\n",
       "      <th>4</th>\n",
       "      <td>Iron Man 2</td>\n",
       "      <td>Par.</td>\n",
       "      <td>312400000.0</td>\n",
       "      <td>2010</td>\n",
       "      <td>28.515</td>\n",
       "      <td>2010-05-07</td>\n",
       "      <td>6.8</td>\n",
       "      <td>12368</td>\n",
       "      <td>170000000</td>\n",
       "      <td>Jon Favreau</td>\n",
       "      <td>124.0</td>\n",
       "      <td>Action,Adventure,Sci-Fi</td>\n",
       "    </tr>\n",
       "  </tbody>\n",
       "</table>\n",
       "</div>"
      ],
      "text/plain": [
       "                        title studio      revenue  year  popularity  \\\n",
       "0                 Toy Story 3     BV  415000000.0  2010      24.445   \n",
       "1                   Inception     WB  292600000.0  2010      27.920   \n",
       "2         Shrek Forever After   P/DW  238700000.0  2010      15.041   \n",
       "3  The Twilight Saga: Eclipse   Sum.  300500000.0  2010      20.340   \n",
       "4                  Iron Man 2   Par.  312400000.0  2010      28.515   \n",
       "\n",
       "  release_date  vote_average  vote_count     budget           director  \\\n",
       "0   2010-06-17           7.7        8340  200000000        Lee Unkrich   \n",
       "1   2010-07-16           8.3       22186  160000000  Christopher Nolan   \n",
       "2   2010-05-16           6.1        3843  165000000      Mike Mitchell   \n",
       "3   2010-06-23           6.0        4909   68000000        David Slade   \n",
       "4   2010-05-07           6.8       12368  170000000        Jon Favreau   \n",
       "\n",
       "   runtime_minutes                      genres  \n",
       "0            103.0  Adventure,Animation,Comedy  \n",
       "1            148.0     Action,Adventure,Sci-Fi  \n",
       "2             93.0  Adventure,Animation,Comedy  \n",
       "3            124.0     Adventure,Drama,Fantasy  \n",
       "4            124.0     Action,Adventure,Sci-Fi  "
      ]
     },
     "execution_count": 38,
     "metadata": {},
     "output_type": "execute_result"
    }
   ],
   "source": [
    "print(movies_df.shape)\n",
    "movies_df.head()"
   ]
  },
  {
   "cell_type": "markdown",
   "metadata": {},
   "source": [
    "## Data Exploration"
   ]
  },
  {
   "cell_type": "markdown",
   "metadata": {},
   "source": [
    "#### Feature Engineering\n",
    "\n",
    "Two important features I consider necessary in the dataset is the profit column which is \n",
    "1. Profit\n",
    "- This is the difference between revenues and budget\n",
    "2. Month Produced\n",
    "- This will help us identify in which month were movies produced"
   ]
  },
  {
   "cell_type": "code",
   "execution_count": 39,
   "metadata": {},
   "outputs": [],
   "source": [
    "movies_df[\"profit\"] = movies_df[\"revenue\"] - movies_df[\"budget\"]\n",
    "movies_df[\"month\"] = movies_df[\"release_date\"].map(lambda date: date[5:7])"
   ]
  },
  {
   "cell_type": "code",
   "execution_count": 40,
   "metadata": {
    "scrolled": false
   },
   "outputs": [
    {
     "name": "stdout",
     "output_type": "stream",
     "text": [
      "<class 'pandas.core.frame.DataFrame'>\n",
      "Int64Index: 1506 entries, 0 to 1505\n",
      "Data columns (total 14 columns):\n",
      " #   Column           Non-Null Count  Dtype  \n",
      "---  ------           --------------  -----  \n",
      " 0   title            1506 non-null   object \n",
      " 1   studio           1506 non-null   object \n",
      " 2   revenue          1506 non-null   float64\n",
      " 3   year             1506 non-null   int64  \n",
      " 4   popularity       1506 non-null   float64\n",
      " 5   release_date     1506 non-null   object \n",
      " 6   vote_average     1506 non-null   float64\n",
      " 7   vote_count       1506 non-null   int64  \n",
      " 8   budget           1506 non-null   int64  \n",
      " 9   director         1506 non-null   object \n",
      " 10  runtime_minutes  1506 non-null   float64\n",
      " 11  genres           1506 non-null   object \n",
      " 12  profit           1506 non-null   float64\n",
      " 13  month            1506 non-null   object \n",
      "dtypes: float64(5), int64(3), object(6)\n",
      "memory usage: 176.5+ KB\n"
     ]
    }
   ],
   "source": [
    "movies_df.info()"
   ]
  },
  {
   "cell_type": "code",
   "execution_count": 41,
   "metadata": {
    "scrolled": true
   },
   "outputs": [
    {
     "data": {
      "text/html": [
       "<div>\n",
       "<style scoped>\n",
       "    .dataframe tbody tr th:only-of-type {\n",
       "        vertical-align: middle;\n",
       "    }\n",
       "\n",
       "    .dataframe tbody tr th {\n",
       "        vertical-align: top;\n",
       "    }\n",
       "\n",
       "    .dataframe thead th {\n",
       "        text-align: right;\n",
       "    }\n",
       "</style>\n",
       "<table border=\"1\" class=\"dataframe\">\n",
       "  <thead>\n",
       "    <tr style=\"text-align: right;\">\n",
       "      <th></th>\n",
       "      <th>revenue</th>\n",
       "      <th>year</th>\n",
       "      <th>popularity</th>\n",
       "      <th>vote_average</th>\n",
       "      <th>vote_count</th>\n",
       "      <th>budget</th>\n",
       "      <th>runtime_minutes</th>\n",
       "      <th>profit</th>\n",
       "    </tr>\n",
       "  </thead>\n",
       "  <tbody>\n",
       "    <tr>\n",
       "      <th>count</th>\n",
       "      <td>1.506000e+03</td>\n",
       "      <td>1506.000000</td>\n",
       "      <td>1506.000000</td>\n",
       "      <td>1506.000000</td>\n",
       "      <td>1506.000000</td>\n",
       "      <td>1.506000e+03</td>\n",
       "      <td>1506.000000</td>\n",
       "      <td>1.506000e+03</td>\n",
       "    </tr>\n",
       "    <tr>\n",
       "      <th>mean</th>\n",
       "      <td>6.111259e+07</td>\n",
       "      <td>2013.859894</td>\n",
       "      <td>12.301907</td>\n",
       "      <td>6.289841</td>\n",
       "      <td>2069.926959</td>\n",
       "      <td>4.574091e+07</td>\n",
       "      <td>106.807437</td>\n",
       "      <td>1.537168e+07</td>\n",
       "    </tr>\n",
       "    <tr>\n",
       "      <th>std</th>\n",
       "      <td>8.547073e+07</td>\n",
       "      <td>2.556659</td>\n",
       "      <td>8.254737</td>\n",
       "      <td>1.051528</td>\n",
       "      <td>2844.836864</td>\n",
       "      <td>5.549494e+07</td>\n",
       "      <td>19.177751</td>\n",
       "      <td>6.264574e+07</td>\n",
       "    </tr>\n",
       "    <tr>\n",
       "      <th>min</th>\n",
       "      <td>8.000000e+02</td>\n",
       "      <td>2010.000000</td>\n",
       "      <td>0.600000</td>\n",
       "      <td>0.000000</td>\n",
       "      <td>1.000000</td>\n",
       "      <td>5.000000e+04</td>\n",
       "      <td>3.000000</td>\n",
       "      <td>-2.019000e+08</td>\n",
       "    </tr>\n",
       "    <tr>\n",
       "      <th>25%</th>\n",
       "      <td>6.800000e+06</td>\n",
       "      <td>2012.000000</td>\n",
       "      <td>7.851250</td>\n",
       "      <td>5.800000</td>\n",
       "      <td>301.250000</td>\n",
       "      <td>1.000000e+07</td>\n",
       "      <td>94.000000</td>\n",
       "      <td>-1.145000e+07</td>\n",
       "    </tr>\n",
       "    <tr>\n",
       "      <th>50%</th>\n",
       "      <td>3.505000e+07</td>\n",
       "      <td>2014.000000</td>\n",
       "      <td>10.740500</td>\n",
       "      <td>6.300000</td>\n",
       "      <td>1008.500000</td>\n",
       "      <td>2.500000e+07</td>\n",
       "      <td>105.000000</td>\n",
       "      <td>8.000000e+05</td>\n",
       "    </tr>\n",
       "    <tr>\n",
       "      <th>75%</th>\n",
       "      <td>7.617500e+07</td>\n",
       "      <td>2016.000000</td>\n",
       "      <td>15.434750</td>\n",
       "      <td>6.900000</td>\n",
       "      <td>2569.000000</td>\n",
       "      <td>5.590000e+07</td>\n",
       "      <td>118.000000</td>\n",
       "      <td>2.935000e+07</td>\n",
       "    </tr>\n",
       "    <tr>\n",
       "      <th>max</th>\n",
       "      <td>7.001000e+08</td>\n",
       "      <td>2018.000000</td>\n",
       "      <td>80.773000</td>\n",
       "      <td>10.000000</td>\n",
       "      <td>22186.000000</td>\n",
       "      <td>4.106000e+08</td>\n",
       "      <td>180.000000</td>\n",
       "      <td>5.001000e+08</td>\n",
       "    </tr>\n",
       "  </tbody>\n",
       "</table>\n",
       "</div>"
      ],
      "text/plain": [
       "            revenue         year   popularity  vote_average    vote_count  \\\n",
       "count  1.506000e+03  1506.000000  1506.000000   1506.000000   1506.000000   \n",
       "mean   6.111259e+07  2013.859894    12.301907      6.289841   2069.926959   \n",
       "std    8.547073e+07     2.556659     8.254737      1.051528   2844.836864   \n",
       "min    8.000000e+02  2010.000000     0.600000      0.000000      1.000000   \n",
       "25%    6.800000e+06  2012.000000     7.851250      5.800000    301.250000   \n",
       "50%    3.505000e+07  2014.000000    10.740500      6.300000   1008.500000   \n",
       "75%    7.617500e+07  2016.000000    15.434750      6.900000   2569.000000   \n",
       "max    7.001000e+08  2018.000000    80.773000     10.000000  22186.000000   \n",
       "\n",
       "             budget  runtime_minutes        profit  \n",
       "count  1.506000e+03      1506.000000  1.506000e+03  \n",
       "mean   4.574091e+07       106.807437  1.537168e+07  \n",
       "std    5.549494e+07        19.177751  6.264574e+07  \n",
       "min    5.000000e+04         3.000000 -2.019000e+08  \n",
       "25%    1.000000e+07        94.000000 -1.145000e+07  \n",
       "50%    2.500000e+07       105.000000  8.000000e+05  \n",
       "75%    5.590000e+07       118.000000  2.935000e+07  \n",
       "max    4.106000e+08       180.000000  5.001000e+08  "
      ]
     },
     "execution_count": 41,
     "metadata": {},
     "output_type": "execute_result"
    }
   ],
   "source": [
    "movies_df.describe()"
   ]
  },
  {
   "cell_type": "markdown",
   "metadata": {},
   "source": [
    "#### Helper Visualisation Functions"
   ]
  },
  {
   "cell_type": "code",
   "execution_count": 42,
   "metadata": {
    "scrolled": false
   },
   "outputs": [],
   "source": [
    "def plot_bar(data, title, xlabel, ylabel,figsize=(8, 6), x=10, y=10):\n",
    "    \"\"\"\n",
    "    This function creates a bar chart.\n",
    "    \"\"\"\n",
    "    fig, ax = plt.subplots(figsize=figsize)\n",
    "    ax.set_title(title)\n",
    "    ax.set_xlabel(xlabel)\n",
    "    ax.set_ylabel(ylabel)\n",
    "    plt.xticks(rotation=45, ha='right')\n",
    "    x = data.index\n",
    "    y = data.values\n",
    "    ax.bar(x=x, height=y)\n",
    "    plt.show();\n",
    "    \n",
    "    \n",
    "def plot_hist(data, title, xlabel, ylabel, bins=20, figsize=(8, 6)):\n",
    "    \"\"\"\n",
    "    This function creates a bar chart.\n",
    "    \"\"\"\n",
    "    fig, ax = plt.subplots(figsize=figsize)\n",
    "    ax.set_title(title)\n",
    "    ax.set_xlabel(xlabel)\n",
    "    ax.set_ylabel(ylabel)\n",
    "    ax.hist(x=data, bins=20)\n",
    "    plt.show();\n",
    "    \n",
    "def plot_scatter(x, y, title, xlabel, ylabel, alpha=0.2, figsize=(8, 6)):\n",
    "    \"\"\"\n",
    "    This function quickly plots a scatter plot\n",
    "    \"\"\"\n",
    "    fig, ax = plt.subplots(figsize=figsize)\n",
    "    ax.set_title(title)\n",
    "    ax.set_xlabel(xlabel)\n",
    "    ax.set_ylabel(ylabel)\n",
    "    ax.scatter(x=movies_df[\"vote_count\"], y=movies_df['revenue'], alpha=0.2)\n",
    "    plt.show();"
   ]
  },
  {
   "cell_type": "code",
   "execution_count": 43,
   "metadata": {
    "scrolled": true
   },
   "outputs": [],
   "source": [
    "def generate_financials(feature, basis=\"count\"):\n",
    "    \n",
    "    \"\"\"\n",
    "    This method takes one feature as an argument.\n",
    "    It first gets the top 10 items in the feature based on count.\n",
    "    It uses the mean to aggregate the dataframe based on the feature.\n",
    "    It returns two figures showing the \n",
    "    1. Revenue against Budget per feature\n",
    "    2. Profit Margin per feature\n",
    "    \"\"\"\n",
    "    \n",
    "    # Value counts\n",
    "    if basis == \"vote count\":\n",
    "        feature_counts = movies_df.groupby(feature).mean()[\"vote_count\"].sort_values(ascending=False)[:10]\n",
    "    else:\n",
    "        feature_counts = movies_df[feature].value_counts(ascending = False)[:10]\n",
    "    \n",
    "    # Top 10 items based on count\n",
    "    top_10_feature_indices = list(feature_counts.index)\n",
    "\n",
    "    # Prepare a new dataframe based on the Top 10 items per feature\n",
    "    profit_margin = movies_df[movies_df[feature].isin(top_10_feature_indices)].groupby(feature).mean().reset_index()\n",
    "\n",
    "    # Creating key columns - Profit Margin\n",
    "    profit_margin[\"profit_percent\"] = round(((profit_margin[\"revenue\"] - profit_margin[\"budget\"])\n",
    "                                             / profit_margin[\"revenue\"]) * 100, 2)\n",
    "    \n",
    "    # The Matplotlib Figure\n",
    "    fig, (ax1, ax2) = plt.subplots(figsize=(16, 8), ncols=2)\n",
    "    plt.xticks(rotation=45, ha='right')\n",
    "    \n",
    "    width = 0.4\n",
    "    \n",
    "    values = np.arange(len(top_10_feature_indices))\n",
    "    \n",
    "    ax1.bar(x=values, height=profit_margin['revenue'], label=\"Revenue\", width=width)\n",
    "    ax1.bar(x=values+width, height=profit_margin['budget'], label=\"Budget\", width=width)\n",
    "    ax1.set_title('Revenues V Budgets per {}' .format(feature.capitalize()))\n",
    "    ax1.set_ylabel('Amount in Dollars in 1e8')\n",
    "    ax1.set_xlabel(feature.capitalize())\n",
    "    ax1.set_xticks(np.arange(len(top_10_feature_indices)))\n",
    "    ax1.set_xticklabels(top_10_feature_indices, rotation=45, ha='right')\n",
    "    ax1.legend()\n",
    "    \n",
    "    ax2.bar(x=profit_margin[feature], height=profit_margin['profit_percent'])\n",
    "    ax2.set_title('Profit Margin per {}' .format(feature.capitalize()))\n",
    "    ax2.set_ylabel('Percentage')\n",
    "    ax2.set_xlabel(feature.capitalize())"
   ]
  },
  {
   "cell_type": "markdown",
   "metadata": {},
   "source": [
    "#### Exploring Movie Runtimes"
   ]
  },
  {
   "cell_type": "code",
   "execution_count": 45,
   "metadata": {},
   "outputs": [
    {
     "data": {
      "image/png": "[encoded data removed]",
      "text/plain": [
       "<Figure size 576x432 with 1 Axes>"
      ]
     },
     "metadata": {
      "needs_background": "light"
     },
     "output_type": "display_data"
    }
   ],
   "source": [
    "# movies_df.runtime_minutes.plot(kind=\"hist\", bins=20)\n",
    "data = movies_df.runtime_minutes\n",
    "plot_hist(data=data, \n",
    "          title=\"A Histogram of the Movie Runtimes\",\n",
    "         xlabel=\"Movie Runtimes\",\n",
    "         ylabel=\"Frequency\");"
   ]
  },
  {
   "cell_type": "code",
   "execution_count": null,
   "metadata": {},
   "outputs": [],
   "source": []
  }
 ],
 "metadata": {
  "kernelspec": {
   "display_name": "Python 3",
   "language": "python",
   "name": "python3"
  },
  "language_info": {
   "codemirror_mode": {
    "name": "ipython",
    "version": 3
   },
   "file_extension": ".py",
   "mimetype": "text/x-python",
   "name": "python",
   "nbconvert_exporter": "python",
   "pygments_lexer": "ipython3",
   "version": "3.8.5"
  }
 },
 "nbformat": 4,
 "nbformat_minor": 2
}
